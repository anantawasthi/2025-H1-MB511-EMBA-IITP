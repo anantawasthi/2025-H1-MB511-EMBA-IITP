{
 "cells": [
  {
   "cell_type": "code",
   "execution_count": 1,
   "id": "02c40032",
   "metadata": {},
   "outputs": [
    {
     "name": "stderr",
     "output_type": "stream",
     "text": [
      "C:\\Users\\anant\\AppData\\Local\\Temp\\ipykernel_2640\\282517333.py:11: LangChainDeprecationWarning: The class `HuggingFaceEmbeddings` was deprecated in LangChain 0.2.2 and will be removed in 1.0. An updated version of the class exists in the :class:`~langchain-huggingface package and should be used instead. To use it run `pip install -U :class:`~langchain-huggingface` and import as `from :class:`~langchain_huggingface import HuggingFaceEmbeddings``.\n",
      "  embeddings = HuggingFaceEmbeddings(model_name=\"all-MiniLM-L6-v2\")\n",
      "c:\\Users\\anant\\Documents\\Anaconda-Installation\\envs\\genai\\Lib\\site-packages\\tqdm\\auto.py:21: TqdmWarning: IProgress not found. Please update jupyter and ipywidgets. See https://ipywidgets.readthedocs.io/en/stable/user_install.html\n",
      "  from .autonotebook import tqdm as notebook_tqdm\n"
     ]
    }
   ],
   "source": [
    "import os\n",
    "from dotenv import load_dotenv\n",
    "load_dotenv()\n",
    "hf_token = os.getenv(\"HUGGINGFACEHUB_API_TOKEN\")\n",
    "\n",
    "from langchain.document_loaders import TextLoader, PyMuPDFLoader\n",
    "from langchain.text_splitter import RecursiveCharacterTextSplitter\n",
    "\n",
    "# Load Sentence Transformers Embedding model\n",
    "from langchain.embeddings import HuggingFaceEmbeddings\n",
    "embeddings = HuggingFaceEmbeddings(model_name=\"all-MiniLM-L6-v2\")\n",
    "from langchain.vectorstores import Chroma\n",
    "\n",
    "from transformers import AutoModelForCausalLM, AutoTokenizer, pipeline\n",
    "model_name = \"microsoft/phi-3\"  # Updated to \"phi-3\" as it is now available"
   ]
  },
  {
   "cell_type": "code",
   "execution_count": 2,
   "id": "1b866013",
   "metadata": {},
   "outputs": [
    {
     "name": "stdout",
     "output_type": "stream",
     "text": [
      "Total Documents Loaded: 113\n"
     ]
    }
   ],
   "source": [
    "\n",
    "all_documents = []\n",
    "data_folder = \"Documents/\"\n",
    "\n",
    "for file_name in os.listdir(data_folder):\n",
    "    file_path = os.path.join(data_folder, file_name)\n",
    "    \n",
    "    if file_name.endswith(\".txt\"):\n",
    "        loader = TextLoader(file_path)\n",
    "    elif file_name.endswith(\".pdf\"):\n",
    "        loader = PyMuPDFLoader(file_path)\n",
    "    else:\n",
    "        continue  # skip unsupported file types\n",
    "\n",
    "    docs = loader.load()\n",
    "    all_documents.extend(docs)\n",
    "\n",
    "print(f\"Total Documents Loaded: {len(all_documents)}\")\n"
   ]
  },
  {
   "cell_type": "code",
   "execution_count": 3,
   "id": "53046ef8",
   "metadata": {},
   "outputs": [
    {
     "name": "stdout",
     "output_type": "stream",
     "text": [
      "Total Chunks Created: 452\n",
      "Sample Chunk Preview:\n",
      "AI For Managers\n"
     ]
    }
   ],
   "source": [
    "# Initialize splitter\n",
    "text_splitter = RecursiveCharacterTextSplitter(\n",
    "    chunk_size=500,      # size of each chunk\n",
    "    chunk_overlap=50     # overlapping to preserve context\n",
    ")\n",
    "\n",
    "# Split all loaded documents\n",
    "chunks = text_splitter.split_documents(all_documents)\n",
    "\n",
    "print(f\"Total Chunks Created: {len(chunks)}\")\n",
    "print(\"Sample Chunk Preview:\")\n",
    "print(chunks[0].page_content[:500])  # Show first chunk's first 500 characters"
   ]
  },
  {
   "cell_type": "code",
   "execution_count": 4,
   "id": "ca614011",
   "metadata": {},
   "outputs": [
    {
     "name": "stdout",
     "output_type": "stream",
     "text": [
      "✅ Vectorstore created and saved successfully.\n"
     ]
    },
    {
     "name": "stderr",
     "output_type": "stream",
     "text": [
      "C:\\Users\\anant\\AppData\\Local\\Temp\\ipykernel_2640\\909237655.py:11: LangChainDeprecationWarning: Since Chroma 0.4.x the manual persistence method is no longer supported as docs are automatically persisted.\n",
      "  vectorstore.persist()\n"
     ]
    }
   ],
   "source": [
    "from langchain.vectorstores import Chroma\n",
    "\n",
    "# Create a new ChromaDB database\n",
    "vectorstore = Chroma.from_documents(\n",
    "    documents=chunks,\n",
    "    embedding=embeddings,\n",
    "    persist_directory=\"./chroma_db\"  # Directory where vector DB will be saved\n",
    ")\n",
    "\n",
    "# Persist the database to disk\n",
    "vectorstore.persist()\n",
    "\n",
    "print(\"✅ Vectorstore created and saved successfully.\")\n"
   ]
  },
  {
   "cell_type": "code",
   "execution_count": null,
   "id": "3db60841",
   "metadata": {},
   "outputs": [],
   "source": [
    "# Reload the persisted ChromaDB\n",
    "vectorstore = Chroma(\n",
    "    persist_directory=\"./chroma_db\",\n",
    "    embedding_function=embeddings  # reuse the same embeddings\n",
    ")\n",
    "\n",
    "# Create a retriever\n",
    "retriever = vectorstore.as_retriever()\n"
   ]
  },
  {
   "cell_type": "code",
   "execution_count": 5,
   "id": "a7004040",
   "metadata": {},
   "outputs": [
    {
     "name": "stderr",
     "output_type": "stream",
     "text": [
      "c:\\Users\\anant\\Documents\\Anaconda-Installation\\envs\\genai\\Lib\\site-packages\\transformers\\models\\auto\\tokenization_auto.py:898: FutureWarning: The `use_auth_token` argument is deprecated and will be removed in v5 of Transformers. Please use `token` instead.\n",
      "  warnings.warn(\n",
      "c:\\Users\\anant\\Documents\\Anaconda-Installation\\envs\\genai\\Lib\\site-packages\\transformers\\models\\auto\\auto_factory.py:476: FutureWarning: The `use_auth_token` argument is deprecated and will be removed in v5 of Transformers. Please use `token` instead.\n",
      "  warnings.warn(\n",
      "Sliding Window Attention is enabled but not implemented for `sdpa`; unexpected results may be encountered.\n",
      "Device set to use cuda:0\n",
      "C:\\Users\\anant\\AppData\\Local\\Temp\\ipykernel_2640\\1709709670.py:26: LangChainDeprecationWarning: The class `HuggingFacePipeline` was deprecated in LangChain 0.0.37 and will be removed in 1.0. An updated version of the class exists in the :class:`~langchain-huggingface package and should be used instead. To use it run `pip install -U :class:`~langchain-huggingface` and import as `from :class:`~langchain_huggingface import HuggingFacePipeline``.\n",
      "  llm = HuggingFacePipeline(pipeline=llm_pipeline)\n"
     ]
    }
   ],
   "source": [
    "# Use Qwen 0.5B model\n",
    "model_name = \"Qwen/Qwen2-0.5B\"\n",
    "\n",
    "# Load tokenizer and model\n",
    "tokenizer = AutoTokenizer.from_pretrained(model_name, use_auth_token=hf_token, trust_remote_code=True)\n",
    "model = AutoModelForCausalLM.from_pretrained(\n",
    "    model_name,\n",
    "    device_map=\"auto\",\n",
    "    torch_dtype=\"auto\",\n",
    "    use_auth_token=hf_token,\n",
    "    trust_remote_code=True\n",
    ")\n",
    "\n",
    "# Build the text generation pipeline\n",
    "llm_pipeline = pipeline(\n",
    "    \"text-generation\",\n",
    "    model=model,\n",
    "    tokenizer=tokenizer,\n",
    "    max_new_tokens=512,\n",
    "    temperature=0.3,\n",
    "    do_sample=True\n",
    ")\n",
    "\n",
    "# Wrap into LangChain LLM\n",
    "from langchain.llms import HuggingFacePipeline\n",
    "llm = HuggingFacePipeline(pipeline=llm_pipeline)"
   ]
  },
  {
   "cell_type": "code",
   "execution_count": null,
   "id": "328b924f",
   "metadata": {},
   "outputs": [],
   "source": [
    "# Build the RetrievalQA Chain\n",
    "from langchain.chains import RetrievalQA\n",
    "\n",
    "qa_chain = RetrievalQA.from_chain_type(\n",
    "    llm=llm,\n",
    "    retriever=retriever,\n",
    "    chain_type=\"stuff\"  # simplest chain type\n",
    ")\n"
   ]
  },
  {
   "cell_type": "code",
   "execution_count": 6,
   "id": "504311a1",
   "metadata": {},
   "outputs": [],
   "source": [
    "def run_cli_qa():\n",
    "    print(\"\\n🧠 GenAI Q&A Engine Started! (Type 'exit' to quit)\\n\")\n",
    "    \n",
    "    while True:\n",
    "        query = input(\"Ask your question: \")\n",
    "        \n",
    "        if query.lower() in ['exit', 'quit']:\n",
    "            print(\"\\n👋 Exiting the Q&A Engine. Goodbye!\")\n",
    "            break\n",
    "        \n",
    "        if query.strip() == \"\":\n",
    "            print(\"⚠️ Please enter a valid question.\\n\")\n",
    "            continue\n",
    "        \n",
    "        try:\n",
    "            answer = qa_chain.run(query)\n",
    "            print(f\"\\n📝 Answer: {answer}\\n\")\n",
    "        \n",
    "        except Exception as e:\n",
    "            print(f\"❌ Error: {str(e)}\\n\")\n",
    "\n",
    "\n"
   ]
  },
  {
   "cell_type": "code",
   "execution_count": null,
   "id": "158b41e5",
   "metadata": {},
   "outputs": [
    {
     "ename": "TypeError",
     "evalue": "run_cli_qa() takes 0 positional arguments but 1 was given",
     "output_type": "error",
     "traceback": [
      "\u001b[31m---------------------------------------------------------------------------\u001b[39m",
      "\u001b[31mTypeError\u001b[39m                                 Traceback (most recent call last)",
      "\u001b[36mCell\u001b[39m\u001b[36m \u001b[39m\u001b[32mIn[7]\u001b[39m\u001b[32m, line 1\u001b[39m\n\u001b[32m----> \u001b[39m\u001b[32m1\u001b[39m \u001b[43mrun_cli_qa\u001b[49m\u001b[43m(\u001b[49m\u001b[33;43m\"\u001b[39;49m\u001b[33;43mWhat is AI for Managers all about?\u001b[39;49m\u001b[33;43m\"\u001b[39;49m\u001b[43m)\u001b[49m\n",
      "\u001b[31mTypeError\u001b[39m: run_cli_qa() takes 0 positional arguments but 1 was given"
     ]
    }
   ],
   "source": [
    "run_cli_qa(\"What is AI for Managers all about?\", qa_chain=qa_chain)"
   ]
  },
  {
   "cell_type": "code",
   "execution_count": null,
   "id": "0ddb7e3e",
   "metadata": {},
   "outputs": [],
   "source": []
  }
 ],
 "metadata": {
  "kernelspec": {
   "display_name": "genai",
   "language": "python",
   "name": "python3"
  },
  "language_info": {
   "codemirror_mode": {
    "name": "ipython",
    "version": 3
   },
   "file_extension": ".py",
   "mimetype": "text/x-python",
   "name": "python",
   "nbconvert_exporter": "python",
   "pygments_lexer": "ipython3",
   "version": "3.12.3"
  }
 },
 "nbformat": 4,
 "nbformat_minor": 5
}
